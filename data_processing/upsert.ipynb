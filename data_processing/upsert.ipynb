{
 "cells": [
  {
   "cell_type": "code",
   "execution_count": 2,
   "metadata": {},
   "outputs": [],
   "source": [
    "import pandas as pd\n",
    "import numpy as np\n",
    "import matplotlib.pyplot as plt\n",
    "import json as js\n",
    "import os\n",
    "from dotenv import load_dotenv\n",
    "from pinecone import Pinecone, ServerlessSpec\n",
    "\n"
   ]
  },
  {
   "cell_type": "code",
   "execution_count": 14,
   "metadata": {},
   "outputs": [],
   "source": [
    "#load pickle file\n",
    "df = pd.read_pickle('data/cleaned_elden_ring_data.pkl')\n"
   ]
  },
  {
   "cell_type": "code",
   "execution_count": null,
   "metadata": {},
   "outputs": [],
   "source": [
    "df.tail(20)\n"
   ]
  },
  {
   "cell_type": "code",
   "execution_count": 65,
   "metadata": {},
   "outputs": [],
   "source": [
    "with open('/Users/divygobiraj/Desktop/projects/ER_Lore_Bot/ER-lore-bot/data_processing/data/cleaned_elden_ring_data.json') as fp:\n",
    "    data = js.load(fp)"
   ]
  },
  {
   "cell_type": "code",
   "execution_count": null,
   "metadata": {},
   "outputs": [],
   "source": [
    "data"
   ]
  },
  {
   "cell_type": "code",
   "execution_count": 22,
   "metadata": {},
   "outputs": [],
   "source": [
    "\n",
    "\n",
    "load_dotenv(dotenv_path=\"/Users/divygobiraj/Desktop/projects/ER_Lore_Bot/ER-lore-bot/.env\")\n",
    "# print(os.getenv(\"PINECONE_KEY\"))\n",
    "\n",
    "pc = Pinecone(api_key=os.getenv(\"PINECONE_KEY\"))\n",
    "index = pc.Index(\"er-text\")\n"
   ]
  },
  {
   "cell_type": "code",
   "execution_count": null,
   "metadata": {},
   "outputs": [],
   "source": [
    "def embed_text(text):\n",
    "    return pc.inference.embed(\n",
    "        model=\"multilingual-e5-large\",\n",
    "        inputs=[text],\n",
    "        parameters={\"input_type\": \"passage\", \"truncate\": \"END\"}\n",
    "    )\n",
    "\n",
    "\n",
    "chunked_vectors = []\n",
    "batch_size = 200\n",
    "for i in range(0, len(df), 200):\n",
    "    vectors = []\n",
    "    keepgo = 1\n",
    "    while i % 200 > 0 or keepgo == 1:\n",
    "        row = df.iloc[i]\n",
    "        print(i)\n",
    "        keepgo = 0\n",
    "        vectors.append(\n",
    "            {\n",
    "                \"id\": row['name'],\n",
    "                \"values\": (embed_text(row['name'] + \": \" +  row['text'])).data[0].values, \n",
    "                \"metadata\": {\"type\": row['type']}\n",
    "            }\n",
    "        )\n",
    "        i+=1\n",
    "    chunked_vectors.append(vectors)\n",
    "    vectors = []\n",
    "    keepgo = 1\n",
    "\n",
    "\n",
    "\n",
    "\n",
    "\n",
    "    \n",
    "\n",
    "\n"
   ]
  },
  {
   "cell_type": "code",
   "execution_count": null,
   "metadata": {},
   "outputs": [],
   "source": [
    "row = df.iloc[0]\n",
    "for chunk in chunked_vectors[0]:\n",
    "    for vector in chunk:\n",
    "        #if vector['id'] is not ascii change to ascii, eg e to e\n",
    "        vector['id'] = vector['id'].encode('ascii', 'ignore').decode('ascii')\n",
    "\n"
   ]
  },
  {
   "cell_type": "code",
   "execution_count": null,
   "metadata": {},
   "outputs": [],
   "source": [
    "for vec in chunked_vectors:\n",
    "    index.upsert(vectors=vec)\n"
   ]
  }
 ],
 "metadata": {
  "kernelspec": {
   "display_name": "Python 3",
   "language": "python",
   "name": "python3"
  },
  "language_info": {
   "codemirror_mode": {
    "name": "ipython",
    "version": 3
   },
   "file_extension": ".py",
   "mimetype": "text/x-python",
   "name": "python",
   "nbconvert_exporter": "python",
   "pygments_lexer": "ipython3",
   "version": "3.10.8"
  }
 },
 "nbformat": 4,
 "nbformat_minor": 2
}
