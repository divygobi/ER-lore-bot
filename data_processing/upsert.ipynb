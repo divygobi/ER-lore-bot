{
 "cells": [
  {
   "cell_type": "code",
   "execution_count": 27,
   "metadata": {},
   "outputs": [],
   "source": [
    "import pandas as pd\n",
    "import numpy as np\n",
    "import matplotlib.pyplot as plt\n"
   ]
  },
  {
   "cell_type": "code",
   "execution_count": 31,
   "metadata": {},
   "outputs": [],
   "source": [
    "#load pickle file\n",
    "df = pd.read_pickle('data/cleaned_elden_ring_data.pkl')\n"
   ]
  },
  {
   "cell_type": "code",
   "execution_count": 36,
   "metadata": {},
   "outputs": [
    {
     "data": {
      "text/html": [
       "<div>\n",
       "<style scoped>\n",
       "    .dataframe tbody tr th:only-of-type {\n",
       "        vertical-align: middle;\n",
       "    }\n",
       "\n",
       "    .dataframe tbody tr th {\n",
       "        vertical-align: top;\n",
       "    }\n",
       "\n",
       "    .dataframe thead th {\n",
       "        text-align: right;\n",
       "    }\n",
       "</style>\n",
       "<table border=\"1\" class=\"dataframe\">\n",
       "  <thead>\n",
       "    <tr style=\"text-align: right;\">\n",
       "      <th></th>\n",
       "      <th>name_en</th>\n",
       "      <th>text</th>\n",
       "      <th>type</th>\n",
       "    </tr>\n",
       "  </thead>\n",
       "  <tbody>\n",
       "    <tr>\n",
       "      <th>2603</th>\n",
       "      <td>End of Game Dialog + Extra Morgott dialog16</td>\n",
       "      <td>Our seed will look back upon us, and recall.</td>\n",
       "      <td>dialog</td>\n",
       "    </tr>\n",
       "    <tr>\n",
       "      <th>2604</th>\n",
       "      <td>End of Game Dialog + Extra Morgott dialog17</td>\n",
       "      <td>An Age of Fracture.</td>\n",
       "      <td>dialog</td>\n",
       "    </tr>\n",
       "    <tr>\n",
       "      <th>2605</th>\n",
       "      <td>End of Game Dialog + Extra Morgott dialog18</td>\n",
       "      <td>Our seed will look back upon us, and recall.</td>\n",
       "      <td>dialog</td>\n",
       "    </tr>\n",
       "    <tr>\n",
       "      <th>2606</th>\n",
       "      <td>End of Game Dialog + Extra Morgott dialog19</td>\n",
       "      <td>The Age of Order.</td>\n",
       "      <td>dialog</td>\n",
       "    </tr>\n",
       "    <tr>\n",
       "      <th>2607</th>\n",
       "      <td>End of Game Dialog + Extra Morgott dialog20</td>\n",
       "      <td>The Age Absolute.</td>\n",
       "      <td>dialog</td>\n",
       "    </tr>\n",
       "    <tr>\n",
       "      <th>2608</th>\n",
       "      <td>End of Game Dialog + Extra Morgott dialog21</td>\n",
       "      <td>Our seed will look back upon us, and recall.</td>\n",
       "      <td>dialog</td>\n",
       "    </tr>\n",
       "    <tr>\n",
       "      <th>2609</th>\n",
       "      <td>End of Game Dialog + Extra Morgott dialog22</td>\n",
       "      <td>The Age of the Duskborn</td>\n",
       "      <td>dialog</td>\n",
       "    </tr>\n",
       "    <tr>\n",
       "      <th>2610</th>\n",
       "      <td>End of Game Dialog + Extra Morgott dialog23</td>\n",
       "      <td>Our seed will look back upon us, and recall.</td>\n",
       "      <td>dialog</td>\n",
       "    </tr>\n",
       "    <tr>\n",
       "      <th>2611</th>\n",
       "      <td>End of Game Dialog + Extra Morgott dialog24</td>\n",
       "      <td>The reviled curse that defined our age.</td>\n",
       "      <td>dialog</td>\n",
       "    </tr>\n",
       "    <tr>\n",
       "      <th>2612</th>\n",
       "      <td>End of Game Dialog + Extra Morgott dialog25</td>\n",
       "      <td>The Blessing of Despair.</td>\n",
       "      <td>dialog</td>\n",
       "    </tr>\n",
       "  </tbody>\n",
       "</table>\n",
       "</div>"
      ],
      "text/plain": [
       "                                          name_en   \n",
       "2603  End of Game Dialog + Extra Morgott dialog16  \\\n",
       "2604  End of Game Dialog + Extra Morgott dialog17   \n",
       "2605  End of Game Dialog + Extra Morgott dialog18   \n",
       "2606  End of Game Dialog + Extra Morgott dialog19   \n",
       "2607  End of Game Dialog + Extra Morgott dialog20   \n",
       "2608  End of Game Dialog + Extra Morgott dialog21   \n",
       "2609  End of Game Dialog + Extra Morgott dialog22   \n",
       "2610  End of Game Dialog + Extra Morgott dialog23   \n",
       "2611  End of Game Dialog + Extra Morgott dialog24   \n",
       "2612  End of Game Dialog + Extra Morgott dialog25   \n",
       "\n",
       "                                              text    type  \n",
       "2603  Our seed will look back upon us, and recall.  dialog  \n",
       "2604                           An Age of Fracture.  dialog  \n",
       "2605  Our seed will look back upon us, and recall.  dialog  \n",
       "2606                             The Age of Order.  dialog  \n",
       "2607                             The Age Absolute.  dialog  \n",
       "2608  Our seed will look back upon us, and recall.  dialog  \n",
       "2609                       The Age of the Duskborn  dialog  \n",
       "2610  Our seed will look back upon us, and recall.  dialog  \n",
       "2611       The reviled curse that defined our age.  dialog  \n",
       "2612                      The Blessing of Despair.  dialog  "
      ]
     },
     "execution_count": 36,
     "metadata": {},
     "output_type": "execute_result"
    }
   ],
   "source": [
    "df.tail(10)"
   ]
  },
  {
   "cell_type": "code",
   "execution_count": null,
   "metadata": {},
   "outputs": [],
   "source": []
  }
 ],
 "metadata": {
  "kernelspec": {
   "display_name": "Python 3",
   "language": "python",
   "name": "python3"
  },
  "language_info": {
   "codemirror_mode": {
    "name": "ipython",
    "version": 3
   },
   "file_extension": ".py",
   "mimetype": "text/x-python",
   "name": "python",
   "nbconvert_exporter": "python",
   "pygments_lexer": "ipython3",
   "version": "3.10.8"
  }
 },
 "nbformat": 4,
 "nbformat_minor": 2
}
