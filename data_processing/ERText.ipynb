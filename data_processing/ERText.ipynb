{
 "cells": [
  {
   "cell_type": "code",
   "execution_count": 15,
   "metadata": {},
   "outputs": [],
   "source": [
    "import pandas as pd\n",
    "import numpy as np\n",
    "import matplotlib.pyplot as plt\n"
   ]
  },
  {
   "cell_type": "code",
   "execution_count": 16,
   "metadata": {},
   "outputs": [],
   "source": [
    "#load in json\n",
    "df = pd.read_json('data/elden_ring_text.json')\n",
    "\n",
    "\n"
   ]
  },
  {
   "cell_type": "code",
   "execution_count": null,
   "metadata": {},
   "outputs": [],
   "source": [
    "print(\"myack myack myack\")\n"
   ]
  },
  {
   "cell_type": "code",
   "execution_count": 18,
   "metadata": {},
   "outputs": [],
   "source": [
    "#create a new df with all rows with accessories not null\n",
    "columns = ['accessories', 'arts', 'gems', 'goods', 'protector', 'weapon', 'dialog']\n",
    "\n",
    "#if name_en\n",
    "df_accessories = df['accessories'].dropna()\n",
    "df_arts = df['arts'].dropna()\n",
    "\n",
    "df_crafting = df['gems'].dropna()\n",
    "df_goods = df.dropna()\n",
    "df_protector = df['protector'].dropna()\n",
    "df_weapons = df['weapon'].dropna()\n",
    "df_dialog = df['dialog'].dropna()\n"
   ]
  },
  {
   "cell_type": "code",
   "execution_count": null,
   "metadata": {},
   "outputs": [],
   "source": [
    "df_weapons = df['weapon'].dropna()\n",
    "df_weapons.tail()"
   ]
  },
  {
   "cell_type": "code",
   "execution_count": 20,
   "metadata": {},
   "outputs": [],
   "source": [
    "\n",
    "jp_columns = ['name_jp', 'info_jp', 'caption_jp', 'effect_jp', 'id']\n",
    "\n",
    "def normalizeClean(df, column):\n",
    "    new_df = pd.json_normalize(df[column])\n",
    "    #delete and columns with 'jp' in the name\n",
    "    \n",
    "    new_df = new_df.drop_duplicates().drop(columns=jp_columns, errors='ignore')\n",
    "    #add a columns with the name of the column\n",
    "    new_df['type'] = column\n",
    "    \n",
    "\n",
    "    #add a column \n",
    "    return new_df\n",
    "\n",
    "df_accessories = normalizeClean(df, 'accessories')\n",
    "df_arts = normalizeClean(df, 'arts')\n",
    "df_goods = normalizeClean(df, 'goods')\n",
    "df_protector = normalizeClean(df, 'protector')\n",
    "df_weapons = normalizeClean(df, 'weapon')\n",
    "df_dialog = normalizeClean(df, 'dialog')\n",
    "dfs = [df_accessories, df_arts, df_goods, df_protector, df_weapons, df_dialog]\n"
   ]
  },
  {
   "cell_type": "code",
   "execution_count": null,
   "metadata": {},
   "outputs": [],
   "source": [
    "df_weapons.tail(10)"
   ]
  },
  {
   "cell_type": "code",
   "execution_count": 22,
   "metadata": {},
   "outputs": [],
   "source": [
    "#clean all text of any html tags or special/escape characters and numbers \n",
    "def cleanText(df):\n",
    "    for column in df.columns:\n",
    "        df[column] = df[column].str.replace(r'<[^>]*>', '')\n",
    "        df[column] = df[column].str.replace(r'&[^;]*;', '')\n",
    "        df[column] = df[column].str.replace(r'[0-9]', '')\n",
    "        df[column] = df[column].str.replace('\\n', ' ')\n",
    "    return df\n",
    "\n",
    "for df in dfs:\n",
    "    cleanText(df)\n"
   ]
  },
  {
   "cell_type": "code",
   "execution_count": null,
   "metadata": {},
   "outputs": [],
   "source": [
    "df_dialog.head(10)\n",
    "type(df_dialog['info_en'][0])\n"
   ]
  },
  {
   "cell_type": "code",
   "execution_count": null,
   "metadata": {},
   "outputs": [],
   "source": [
    "import re\n",
    "chunk_data = []\n",
    "pattern = re.compile(r'\\[(\\d+)\\]\\s*(.*)')\n",
    "\n",
    "\n",
    "for index, row in df_dialog.iterrows():\n",
    "    if type(row['info_en']) is not str:\n",
    "        continue\n",
    "    info = row['info_en']\n",
    "    name = row['name_en']\n",
    "    chunks = info.split('<br/><br/>')\n",
    "    count = 1\n",
    "    for chunk in chunks:\n",
    "        match = pattern.match(chunk.strip())\n",
    "        if match:\n",
    "            text = match.group(2)\n",
    "            if name == \"End of Game Dialog + Extra Morgott dialog\":\n",
    "                name = \"End of Game Dialog\"\n",
    "            chunk_data.append({'name_en': name + str(count), 'text': text, 'type': 'dialog'})\n",
    "\n",
    "        count += 1\n",
    "\n",
    "print(chunk_data)\n",
    "\n",
    "df_dialog_chunked = pd.DataFrame(chunk_data)\n",
    "df_dialog_chunked.head(10)"
   ]
  },
  {
   "cell_type": "code",
   "execution_count": null,
   "metadata": {},
   "outputs": [],
   "source": [
    "df_weapons.tail(10)"
   ]
  },
  {
   "cell_type": "code",
   "execution_count": null,
   "metadata": {},
   "outputs": [],
   "source": [
    "\n",
    "dfs = [df_accessories, df_arts, df_goods, df_protector, df_weapons]\n",
    "\n",
    "#join all the dataframes together on name_en\n",
    "df_all = pd.concat(dfs)\n",
    "#if there is coption_en and info_en, combine them\n",
    "\n",
    "df_all['info_en'] = df_all['info_en'].fillna('')\n",
    "df_all['caption_en'] = df_all['caption_en'].fillna('')\n",
    "df_all['effect_en'] = df_all['effect_en'].fillna('')\n",
    "\n",
    "\n",
    "df_all[df_all['name_en'] == 'Flaming Bolt']\n"
   ]
  },
  {
   "cell_type": "code",
   "execution_count": 27,
   "metadata": {},
   "outputs": [],
   "source": [
    "df_all['text'] = df_all['caption_en'] + ' ' + df_all['info_en'] + ' ' + df_all['effect_en']\n",
    "\n",
    "\n",
    "\n",
    "df_all = pd.concat([df_all, df_dialog_chunked])\n",
    "df_all = df_all[['name_en', 'text', 'type']]\n",
    "#drop any rows with no name_en\n",
    "df_all = df_all.dropna(subset=['name_en'])\n",
    "\n",
    "#reset index\n",
    "df_all = df_all.reset_index(drop=True)\n",
    "\n",
    "#rename name_en to name\n",
    "df_all = df_all.rename(columns={'name_en': 'name'})\n",
    "\n",
    "df_all.to_pickle('data/cleaned_elden_ring_data.pkl')"
   ]
  },
  {
   "cell_type": "code",
   "execution_count": 28,
   "metadata": {},
   "outputs": [],
   "source": [
    "df_all.head(10)\n",
    "#make into a json file row by row\n",
    "df_all.to_json('data/cleaned_elden_ring_data.json', orient='records')\n"
   ]
  }
 ],
 "metadata": {
  "kernelspec": {
   "display_name": "Python 3",
   "language": "python",
   "name": "python3"
  },
  "language_info": {
   "codemirror_mode": {
    "name": "ipython",
    "version": 3
   },
   "file_extension": ".py",
   "mimetype": "text/x-python",
   "name": "python",
   "nbconvert_exporter": "python",
   "pygments_lexer": "ipython3",
   "version": "3.10.8"
  }
 },
 "nbformat": 4,
 "nbformat_minor": 2
}
